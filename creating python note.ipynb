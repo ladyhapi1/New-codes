{
 "cells": [
  {
   "cell_type": "markdown",
   "id": "96ff565e",
   "metadata": {},
   "source": [
    "# Creation and use of Python Functions"
   ]
  },
  {
   "cell_type": "code",
   "execution_count": 8,
   "id": "17143f2e",
   "metadata": {},
   "outputs": [],
   "source": [
    "# Defining the first function\n",
    "def sumFunct():\n",
    "    numA = float(input(\"Number A: \"))\n",
    "    numB = float(input(\"Number B: \"))\n",
    "    numC = float(input(\"Number c: \"))\n",
    "    sumA11 = numA + numB + numC\n",
    "    print(\"The sum of the numbers you entered is \", sumA11)"
   ]
  },
  {
   "cell_type": "code",
   "execution_count": 9,
   "id": "94290c2a",
   "metadata": {},
   "outputs": [],
   "source": [
    "# Defining the second function\n",
    "def my_function1():\n",
    "    myName = input(\"What is your name please: \")\n",
    "    print(\"Welcome \" + myName + \" to your first python function program\")\n",
    "    sumFunct() # Calling the first function"
   ]
  },
  {
   "cell_type": "code",
   "execution_count": 10,
   "id": "9ed51011",
   "metadata": {},
   "outputs": [
    {
     "name": "stdout",
     "output_type": "stream",
     "text": [
      "Function calls activated\n",
      "What is your name please: Ms Happiness\n",
      "Welcome Ms Happiness to your first python function program\n",
      "Number A: 25\n",
      "Number B: 30\n",
      "Number c: 35\n",
      "The sum of the numbers you entered is  90.0\n"
     ]
    }
   ],
   "source": [
    "# Calling the functions we have defined\n",
    "print('Function calls activated')\n",
    "my_function1()"
   ]
  },
  {
   "cell_type": "markdown",
   "id": "b7cc1b29",
   "metadata": {},
   "source": [
    "## Inputing data to a function"
   ]
  },
  {
   "cell_type": "code",
   "execution_count": null,
   "id": "9cf67d67",
   "metadata": {},
   "outputs": [],
   "source": [
    "def myStringFunction(stringIn):\n",
    "    print('This is ' + stringIn)\n",
    "    \n",
    "myStringFunction(\"Coconut\")\n",
    "myStringFunction(\"Banana\")\n",
    "myStringFunction(\"Lemon\")\n"
   ]
  },
  {
   "cell_type": "code",
   "execution_count": null,
   "id": "eaa6337c",
   "metadata": {},
   "outputs": [],
   "source": [
    "def myStringFunction(stringIn, stringOut,):\n",
    "    print('This is ' + stringIn, stringOut)\n",
    "    \n",
    "myStringFunction(\"Coconut\", \"Isipeyop\")\n",
    "myStringFunction(\"Banana\", \"Mboro\")\n",
    "myStringFunction(\"Lemon\", \"Small orange\")\n"
   ]
  },
  {
   "cell_type": "code",
   "execution_count": 1,
   "id": "6b913e0c",
   "metadata": {},
   "outputs": [
    {
     "name": "stdout",
     "output_type": "stream",
     "text": [
      "Happiness is in class today.\n",
      "Ataimo is in class today.\n"
     ]
    }
   ],
   "source": [
    "def notknowing(*ClassNames):\n",
    "    print(ClassNames[2], 'is in class today.')\n",
    "notknowing('Timkere','Ataimo','Happiness','Divine') # Giving four inputs\n",
    "notknowing('Unwana','Timkere','Ataimo','Happiness','Divine') # Giving five inputs"
   ]
  },
  {
   "cell_type": "markdown",
   "id": "16898cf1",
   "metadata": {},
   "source": [
    "## A function to return a value"
   ]
  },
  {
   "cell_type": "code",
   "execution_count": 11,
   "id": "0b871c1e",
   "metadata": {},
   "outputs": [
    {
     "name": "stdout",
     "output_type": "stream",
     "text": [
      "984\n",
      "1230\n",
      "12300\n"
     ]
    }
   ],
   "source": [
    "def returnValue(number):\n",
    "    return 123 * number\n",
    "   # return number % 5\n",
    "print(returnValue(8))\n",
    "print(returnValue(10))\n",
    "print(returnValue(100))\n",
    "\n",
    "\n",
    "\n",
    "    "
   ]
  },
  {
   "cell_type": "markdown",
   "id": "979e2044",
   "metadata": {},
   "source": [
    "## Data dictionary and data indexing\n"
   ]
  },
  {
   "cell_type": "markdown",
   "id": "f638748d",
   "metadata": {},
   "source": [
    "## A dictionary is an unordered,changeable and indexed collection of items.Dictionaries are created using curly brackets"
   ]
  },
  {
   "cell_type": "code",
   "execution_count": 6,
   "id": "b7cb8347",
   "metadata": {},
   "outputs": [
    {
     "name": "stdout",
     "output_type": "stream",
     "text": [
      "{'Track Name': 'Data science', 'Hall Number': 'Conference Room 002', 'Class Size': '38 Students', 'Instructor Name': \"I'mKing Udonyah\"}\n"
     ]
    }
   ],
   "source": [
    "myDictionary = {\n",
    "    \"Track Name\": \"Data science\",\n",
    "    \"Hall Number\": \"Conference Room 002\",\n",
    "    \"Class Size\": \"38 Students\",\n",
    "    \"Instructor Name\": \"I'mKing Udonyah\"\n",
    "}\n",
    "print(myDictionary)"
   ]
  },
  {
   "cell_type": "markdown",
   "id": "43da145e",
   "metadata": {},
   "source": [
    "## Accessing values from a dictionary"
   ]
  },
  {
   "cell_type": "code",
   "execution_count": 7,
   "id": "1ab68f3b",
   "metadata": {},
   "outputs": [
    {
     "name": "stdout",
     "output_type": "stream",
     "text": [
      "Data science\n",
      "38 Students\n",
      "None\n"
     ]
    }
   ],
   "source": [
    "# Getting the values the key Track Name\n",
    "print(myDictionary['Track Name'])\n",
    "# Getting the value for the key class size\n",
    "print(myDictionary.get('Class Size'))\n",
    "# Getting value for a none existing key\n",
    "print(myDictionary.get('Course Rep'))"
   ]
  },
  {
   "cell_type": "markdown",
   "id": "6d6f76de",
   "metadata": {},
   "source": [
    "## Adding values into a dictionary"
   ]
  },
  {
   "cell_type": "code",
   "execution_count": 8,
   "id": "14a41899",
   "metadata": {},
   "outputs": [
    {
     "data": {
      "text/plain": [
       "{'Track Name': 'Data science',\n",
       " 'Hall Number': 'Conference Room 002',\n",
       " 'Class Size': '38 Students',\n",
       " 'Instructor Name': \"I'mKing Udonyah\",\n",
       " 'Program Year': 2022}"
      ]
     },
     "execution_count": 8,
     "metadata": {},
     "output_type": "execute_result"
    }
   ],
   "source": [
    "myDictionary['Program Year'] = 2022\n",
    "myDictionary # Calling my Dict"
   ]
  },
  {
   "cell_type": "markdown",
   "id": "141481a7",
   "metadata": {},
   "source": [
    "## Looping through a dictionary"
   ]
  },
  {
   "cell_type": "code",
   "execution_count": 9,
   "id": "eb382ad2",
   "metadata": {},
   "outputs": [
    {
     "name": "stdout",
     "output_type": "stream",
     "text": [
      "Track Name\n",
      "Hall Number\n",
      "Class Size\n",
      "Instructor Name\n",
      "Program Year\n"
     ]
    }
   ],
   "source": [
    "# Using the for loop to return the keys in the Dictionary\n",
    "for me in myDictionary:\n",
    "    print(me)"
   ]
  },
  {
   "cell_type": "code",
   "execution_count": 10,
   "id": "d6c4f51b",
   "metadata": {},
   "outputs": [
    {
     "name": "stdout",
     "output_type": "stream",
     "text": [
      "Data science\n",
      "Conference Room 002\n",
      "38 Students\n",
      "I'mKing Udonyah\n",
      "2022\n",
      "===========================================\n",
      "Using another code structure to print the same thing\n",
      "===============================================\n",
      "Data science\n",
      "Conference Room 002\n",
      "38 Students\n",
      "I'mKing Udonyah\n",
      "2022\n"
     ]
    }
   ],
   "source": [
    "# using the for loop to return the values in the dictionary\n",
    "for em in myDictionary:\n",
    "    print(myDictionary[em])\n",
    "    \n",
    "print('===========================================')\n",
    "print('Using another code structure to print the same thing\\n===============================================')\n",
    "for them in myDictionary.values():\n",
    "    print(them)"
   ]
  },
  {
   "cell_type": "code",
   "execution_count": 14,
   "id": "488b0dc7",
   "metadata": {},
   "outputs": [
    {
     "name": "stdout",
     "output_type": "stream",
     "text": [
      "Track Name: Data science\n",
      "Hall Number: Conference Room 002\n",
      "Class Size: 38 Students\n",
      "Instructor Name: I'mKing Udonyah\n",
      "Program Year: 2022\n",
      "=======================================================\n",
      "Using another code structure to print the same thing\n",
      "=======================================================\n",
      "Program Year: Data science\n",
      "Program Year: Conference Room 002\n",
      "Program Year: 38 Students\n",
      "Program Year: I'mKing Udonyah\n",
      "Program Year: 2022\n"
     ]
    }
   ],
   "source": [
    "#accessing both the keys and the viraible\n",
    "for every in myDictionary:\n",
    "    print(every + ':', myDictionary[every])\n",
    "\n",
    "print('=======================================================')\n",
    "print('Using another code structure to print the same thing')\n",
    "print('=======================================================')\n",
    "for keys, valuez in myDictionary.items():\n",
    "    print(x + ':', valuez)"
   ]
  },
  {
   "cell_type": "markdown",
   "id": "c3c53347",
   "metadata": {},
   "source": [
    "## Things that could be done with a Dictionary\n",
    "    1. Checking if a key is present in the Dictionary\n",
    "    2. Adding a new element into the Dictioinary\n",
    "    3. Removing elements from the Dictionary\n",
    "    4. Deleting the whole Dictionary\n",
    "    5. Finding the length of the Dictionary\n",
    "    "
   ]
  },
  {
   "cell_type": "markdown",
   "id": "57b5fe08",
   "metadata": {},
   "source": [
    "## Nested Dictionary\n",
    "Dictionary inside another Dictionary"
   ]
  },
  {
   "cell_type": "code",
   "execution_count": 16,
   "id": "608b649a",
   "metadata": {},
   "outputs": [
    {
     "data": {
      "text/plain": [
       "{'Akpan': {'Name': 'Okpongette', 'DOB': '1999'},\n",
       " 'Udo': {'Name': 'Stanley', 'DOB': '1998'},\n",
       " 'Adiaha': {'Name': 'David', 'DOB': '2002'}}"
      ]
     },
     "execution_count": 16,
     "metadata": {},
     "output_type": "execute_result"
    }
   ],
   "source": [
    "childA = {\n",
    "    'Name':'Okpongette',\n",
    "    'DOB':'1999',\n",
    "}\n",
    "childB = {\n",
    "    'Name':'Stanley',\n",
    "    'DOB':'1998'\n",
    "}\n",
    "childC = {\n",
    "    'Name':'David',\n",
    "    'DOB':'2002'\n",
    "}\n",
    "\n",
    "family = {\n",
    "    'Akpan': childA,\n",
    "    'Udo': childB,\n",
    "    'Adiaha': childC\n",
    "}\n",
    "family"
   ]
  },
  {
   "cell_type": "markdown",
   "id": "76745460",
   "metadata": {},
   "source": [
    "###  Data Acquisition"
   ]
  },
  {
   "cell_type": "code",
   "execution_count": 1,
   "id": "e1e27bf0",
   "metadata": {},
   "outputs": [
    {
     "name": "stdout",
     "output_type": "stream",
     "text": [
      "Monday          1\n",
      "Tuesday         2\n",
      "Wednesday       3\n",
      "Thursday        4\n",
      "Friday          5\n",
      "Saturday        6\n",
      "Sunday          7\n"
     ]
    }
   ],
   "source": [
    "# Getting a textfile\n",
    "myFile = open(\"weekDays.txt\",\"r\")\n",
    "print(myFile.read())"
   ]
  },
  {
   "cell_type": "code",
   "execution_count": 13,
   "id": "8feec480",
   "metadata": {},
   "outputs": [
    {
     "name": "stdout",
     "output_type": "stream",
     "text": [
      "Monday\t\t1\n",
      "Tuesday\t\t2\n",
      "\n"
     ]
    }
   ],
   "source": [
    "# Reading in a certain number of character from a file\n",
    "myFile = open(\"weekDays.txt\",\"r\")\n",
    "print(myFile.read(21))"
   ]
  },
  {
   "cell_type": "code",
   "execution_count": 14,
   "id": "2e427fc4",
   "metadata": {},
   "outputs": [
    {
     "name": "stdout",
     "output_type": "stream",
     "text": [
      "Observation 2: Monday\t\t1\n",
      "\n",
      "Observation 3: Tuesday\t\t2\n",
      "\n",
      "Observation 4: Wednesday\t3\n",
      "\n",
      "Observation 5: Thursday\t4\n",
      "\n",
      "Observation 6: Friday\t\t5\n",
      "\n",
      "Observation 7: Saturday\t6\n",
      "\n",
      "Observation 8: Sunday\t\t7\n"
     ]
    }
   ],
   "source": [
    "myFile = open(\"weekDays.txt\")\n",
    "obs = 1\n",
    "for k in myFile:\n",
    "    obs += 1\n",
    "    print('Observation ' + str(obs) + ': ' + k)\n"
   ]
  },
  {
   "cell_type": "code",
   "execution_count": null,
   "id": "f998c149",
   "metadata": {},
   "outputs": [],
   "source": []
  }
 ],
 "metadata": {
  "kernelspec": {
   "display_name": "Python 3 (ipykernel)",
   "language": "python",
   "name": "python3"
  },
  "language_info": {
   "codemirror_mode": {
    "name": "ipython",
    "version": 3
   },
   "file_extension": ".py",
   "mimetype": "text/x-python",
   "name": "python",
   "nbconvert_exporter": "python",
   "pygments_lexer": "ipython3",
   "version": "3.9.12"
  }
 },
 "nbformat": 4,
 "nbformat_minor": 5
}
