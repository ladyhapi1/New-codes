{
 "cells": [
  {
   "cell_type": "markdown",
   "id": "420745e3",
   "metadata": {},
   "source": [
    "## This is Python Revision With Jupyter Notebook "
   ]
  },
  {
   "cell_type": "code",
   "execution_count": 1,
   "id": "50d18aec",
   "metadata": {},
   "outputs": [
    {
     "name": "stdout",
     "output_type": "stream",
     "text": [
      "This is Data Analytics Track\n"
     ]
    }
   ],
   "source": [
    "## This is a comment line and would not print\n",
    "print(\"This is Data Analytics Track\")"
   ]
  },
  {
   "cell_type": "code",
   "execution_count": 2,
   "id": "cd1f28d1",
   "metadata": {},
   "outputs": [
    {
     "data": {
      "text/plain": [
       "777"
      ]
     },
     "execution_count": 2,
     "metadata": {},
     "output_type": "execute_result"
    }
   ],
   "source": [
    "345 + 432"
   ]
  },
  {
   "cell_type": "code",
   "execution_count": 1,
   "id": "b4354961",
   "metadata": {},
   "outputs": [
    {
     "name": "stdout",
     "output_type": "stream",
     "text": [
      "189 192960 188.4375\n"
     ]
    }
   ],
   "source": [
    "# Performing Calculations\n",
    "\n",
    "y3 = 67\n",
    "z8 = 32\n",
    "g7 = 90\n",
    "add = y3+z8+g7  # We are doing addition\n",
    "mult = y3*z8*g7 # We are multiplying in this case\n",
    "divide = y3*g7/z8 # we are dividing\n",
    "print(add,mult,divide)"
   ]
  },
  {
   "cell_type": "code",
   "execution_count": 2,
   "id": "c80e85c1",
   "metadata": {},
   "outputs": [
    {
     "name": "stdout",
     "output_type": "stream",
     "text": [
      "189\n",
      "192960\n",
      "188.4375\n"
     ]
    }
   ],
   "source": [
    "# Performing Calculations\n",
    "\n",
    "y3 = 67\n",
    "z8 = 32\n",
    "g7 = 90\n",
    "add = y3+z8+g7  # We are doing addition\n",
    "mult = y3*z8*g7 # We are multiplying in this case\n",
    "divide = y3*g7/z8 # we are dividing\n",
    "print(add)\n",
    "print(mult)\n",
    "print(divide)"
   ]
  },
  {
   "cell_type": "code",
   "execution_count": 3,
   "id": "c2eecd3d",
   "metadata": {},
   "outputs": [
    {
     "name": "stdout",
     "output_type": "stream",
     "text": [
      "43.714285714285715\n"
     ]
    }
   ],
   "source": [
    "# Using bracket in maths operations\n",
    "etim = 56\n",
    "itoro = -43\n",
    "kingsley = 77\n",
    "EIK = ((itoro + kingsley) * (etim - itoro))/kingsley\n",
    "print(EIK)"
   ]
  },
  {
   "cell_type": "code",
   "execution_count": 10,
   "id": "5c37d473",
   "metadata": {},
   "outputs": [
    {
     "name": "stdout",
     "output_type": "stream",
     "text": [
      "5\n",
      "2\n",
      "2176782336\n"
     ]
    }
   ],
   "source": [
    "# Using Arithmetic operators\n",
    "# modulus\n",
    "denny = 5%6\n",
    "print(denny)\n",
    "# Floor division\n",
    "unyime = 67//32\n",
    "print(unyime)\n",
    "# exponent\n",
    "grace = 6**12\n",
    "print(grace)"
   ]
  },
  {
   "cell_type": "code",
   "execution_count": 12,
   "id": "e835a897",
   "metadata": {},
   "outputs": [
    {
     "data": {
      "text/plain": [
       "312"
      ]
     },
     "execution_count": 12,
     "metadata": {},
     "output_type": "execute_result"
    }
   ],
   "source": [
    "# Working with assignment operator.If a variable is not assigned any value i.e undefined,then we will get an error message when we try to use it.\n",
    "size = 26\n",
    "width = 12\n",
    "size * width "
   ]
  },
  {
   "cell_type": "code",
   "execution_count": 14,
   "id": "cfe147a4",
   "metadata": {},
   "outputs": [
    {
     "data": {
      "text/plain": [
       "24"
      ]
     },
     "execution_count": 14,
     "metadata": {},
     "output_type": "execute_result"
    }
   ],
   "source": [
    "my_variable = 12\n",
    "my_variable+= 12\n",
    "my_variable"
   ]
  },
  {
   "cell_type": "code",
   "execution_count": null,
   "id": "2fb48447",
   "metadata": {},
   "outputs": [],
   "source": []
  }
 ],
 "metadata": {
  "kernelspec": {
   "display_name": "Python 3 (ipykernel)",
   "language": "python",
   "name": "python3"
  },
  "language_info": {
   "codemirror_mode": {
    "name": "ipython",
    "version": 3
   },
   "file_extension": ".py",
   "mimetype": "text/x-python",
   "name": "python",
   "nbconvert_exporter": "python",
   "pygments_lexer": "ipython3",
   "version": "3.9.12"
  }
 },
 "nbformat": 4,
 "nbformat_minor": 5
}
